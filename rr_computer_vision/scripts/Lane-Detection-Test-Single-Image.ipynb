{
 "cells": [
  {
   "cell_type": "code",
   "execution_count": null,
   "metadata": {},
   "outputs": [],
   "source": [
    "import cv2\n",
    "import numpy as np\n",
    "import matplotlib.pyplot as plt\n",
    "import timeit\n",
    "plt.rcParams['figure.figsize'] = [18, 10]\n",
    "\n",
    "img_bgr = cv2.imread(\"../images/lane_detection/urban_road/original.jpg\")\n",
    "img_hsv = cv2.cvtColor(img_bgr, cv2.COLOR_BGR2HSV)\n",
    "\n",
    "plt.imshow(img_bgr)"
   ]
  },
  {
   "cell_type": "code",
   "execution_count": null,
   "metadata": {},
   "outputs": [],
   "source": [
    "(channel_h, channel_s, channel_v) = cv2.split(img_hsv)\n",
    "adaptive_thres = cv2.adaptiveThreshold(channel_v, 255, \n",
    "                                       cv2.ADAPTIVE_THRESH_MEAN_C, \n",
    "                                       cv2.THRESH_BINARY, 25, -20)\n",
    "\n",
    "                               \n",
    "plt.imshow(adaptive_thres, cmap='gray')"
   ]
  },
  {
   "cell_type": "code",
   "execution_count": null,
   "metadata": {},
   "outputs": [],
   "source": [
    "# Circuit race: (2m wide lanes)\n",
    "# src = np.float32([[500,350], [750,350], [1280,550], [0,450]])\n",
    "\n",
    "# Drag race: (1.5m wide lanes)\n",
    "# src = np.float32([[400,350], [760,350], [1280,500], [0,500]])\n",
    "\n",
    "# Urban race: (1m wide lanes)\n",
    "src = np.float32([[420,380], [930,380], [1280,720], [50,720]])\n",
    "\n",
    "dst = np.float32([[300, 0], [900,0], [900,720], [300,720]])\n",
    "\n",
    "img_size = (adaptive_thres.shape[1], adaptive_thres.shape[0])\n",
    "    \n",
    "M = cv2.getPerspectiveTransform(src, dst)\n",
    "warped = cv2.warpPerspective(adaptive_thres, M, img_size)\n",
    "\n",
    "plt.imshow(warped, cmap='gray')"
   ]
  },
  {
   "cell_type": "code",
   "execution_count": null,
   "metadata": {},
   "outputs": [],
   "source": [
    "# Contours\n",
    "blob_size = 200\n",
    "filtered = np.zeros(warped.shape, np.uint8)\n",
    "\n",
    "_, contours, _ = cv2.findContours(warped, cv2.RETR_LIST, cv2.CHAIN_APPROX_NONE)\n",
    "\n",
    "for cnt in contours:\n",
    "    if cv2.contourArea(cnt) >= blob_size: \n",
    "        cv2.drawContours(filtered, [cnt], -1, 255, -1)\n",
    "\n",
    "plt.imshow(filtered, cmap='gray')\n"
   ]
  },
  {
   "cell_type": "code",
   "execution_count": null,
   "metadata": {},
   "outputs": [],
   "source": [
    "##################################### Horizontal Lane Removal Testing ############################################"
   ]
  },
  {
   "cell_type": "code",
   "execution_count": null,
   "metadata": {},
   "outputs": [],
   "source": [
    "# Try using probobalistic hough lines\n",
    "mask = np.zeros(filtered.shape)\n",
    "display_img = filtered.copy()\n",
    "display_img = cv2.cvtColor(display_img, cv2.COLOR_GRAY2BGR)\n",
    "count = 0\n",
    "minLineLength = 100\n",
    "maxLineGap = 20\n",
    "\n",
    "start_time = timeit.default_timer()\n",
    "lines = cv2.HoughLinesP(filtered, 1, np.pi/180, 100, minLineLength, maxLineGap)\n",
    "print(timeit.default_timer() - start_time)\n",
    "\n",
    "for line in lines:\n",
    "    x1,y1,x2,y2 = line[0]\n",
    "    theta = np.arctan2(y2-y1, x2-x1)\n",
    "    #print(theta*180/np.pi)\n",
    "    #cv2.line(display_img,(x1,y1),(x2,y2),(0,0,255),2)\n",
    "    if -30 <= theta*180/np.pi <= 30:\n",
    "        cv2.line(mask,(x1,y1),(x2,y2),(255),15)\n",
    "        cv2.line(display_img,(x1,y1),(x2,y2),(0, 0, 255),1)\n",
    "        count+=1\n",
    "\n",
    "plt.imshow(display_img)\n",
    "#print(len(lines))\n",
    "#print(count)"
   ]
  },
  {
   "cell_type": "code",
   "execution_count": null,
   "metadata": {},
   "outputs": [],
   "source": [
    "plt.imshow(mask, cmap='gray')"
   ]
  },
  {
   "cell_type": "code",
   "execution_count": null,
   "metadata": {},
   "outputs": [],
   "source": [
    "# Mask the lane image\n",
    "vert_lanes = np.zeros(filtered.shape)\n",
    "idx = (mask==0)\n",
    "vert_lanes[idx] = filtered[idx]\n",
    "\n",
    "plt.imshow(vert_lanes, cmap='gray')"
   ]
  }
 ],
 "metadata": {
  "kernelspec": {
   "display_name": "Python 3",
   "language": "python",
   "name": "python3"
  },
  "language_info": {
   "codemirror_mode": {
    "name": "ipython",
    "version": 3
   },
   "file_extension": ".py",
   "mimetype": "text/x-python",
   "name": "python",
   "nbconvert_exporter": "python",
   "pygments_lexer": "ipython3",
   "version": "3.7.1"
  }
 },
 "nbformat": 4,
 "nbformat_minor": 2
}
